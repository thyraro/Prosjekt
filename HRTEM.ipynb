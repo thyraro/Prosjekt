{
 "cells": [
  {
   "cell_type": "markdown",
   "metadata": {},
   "source": [
    "# HRTEM analyse"
   ]
  },
  {
   "cell_type": "code",
   "execution_count": 3,
   "metadata": {},
   "outputs": [
    {
     "name": "stderr",
     "output_type": "stream",
     "text": [
      "WARNING:silx.opencl.common:Unable to import pyOpenCl. Please install it from: https://pypi.org/project/pyopencl\n"
     ]
    }
   ],
   "source": [
    "%matplotlib qt\n",
    "import matplotlib.pyplot as plt\n",
    "import numpy as np\n",
    "import hyperspy.api as hs\n",
    "import pyxem as pxm\n",
    "\n",
    "from matplotlib.widgets import Slider\n",
    "from skimage import exposure\n",
    "\n",
    "from mpl_toolkits.axes_grid1.anchored_artists import AnchoredSizeBar\n",
    "import matplotlib.font_manager as fm\n",
    "import matplotlib.patheffects as patheffects"
   ]
  },
  {
   "cell_type": "code",
   "execution_count": 4,
   "metadata": {},
   "outputs": [],
   "source": [
    "s = hs.load(\"Noe_HRETEM_greier.dm3\")"
   ]
  },
  {
   "cell_type": "code",
   "execution_count": 3,
   "metadata": {},
   "outputs": [],
   "source": [
    "s.plot()"
   ]
  },
  {
   "cell_type": "code",
   "execution_count": 4,
   "metadata": {},
   "outputs": [
    {
     "data": {
      "text/html": [
       "<style>\n",
       "table, th, td {\n",
       "\tborder: 1px solid black;\n",
       "\tborder-collapse: collapse;\n",
       "}\n",
       "th, td {\n",
       "\tpadding: 5px;\n",
       "}\n",
       "</style>\n",
       "<p><b>< Axes manager, axes: (|1024, 1024) ></b></p>\n",
       "<table style='width:100%'>\n",
       "\n",
       "<tr> \n",
       "<th>Signal axis name</th> \n",
       "<th>size</th> \n",
       "<th></th> \n",
       "<th>offset</th> \n",
       "<th>scale</th> \n",
       "<th>units</th> </tr>\n",
       "<tr> \n",
       "<td>x</td> \n",
       "<td>1024</td> \n",
       "<td></td> \n",
       "<td>-0.0</td> \n",
       "<td>0.013701171614229679</td> \n",
       "<td>nm</td> </tr>\n",
       "<tr> \n",
       "<td>y</td> \n",
       "<td>1024</td> \n",
       "<td></td> \n",
       "<td>-0.0</td> \n",
       "<td>0.013701171614229679</td> \n",
       "<td>nm</td> </tr></table>\n"
      ],
      "text/plain": [
       "<Axes manager, axes: (|1024, 1024)>\n",
       "            Name |   size |  index |  offset |   scale |  units \n",
       "================ | ====== | ====== | ======= | ======= | ====== \n",
       "---------------- | ------ | ------ | ------- | ------- | ------ \n",
       "               x |   1024 |      0 |      -0 |   0.014 |     nm \n",
       "               y |   1024 |      0 |      -0 |   0.014 |     nm "
      ]
     },
     "execution_count": 4,
     "metadata": {},
     "output_type": "execute_result"
    }
   ],
   "source": [
    "s.axes_manager"
   ]
  },
  {
   "cell_type": "markdown",
   "metadata": {},
   "source": [
    "## Set limits to enhance contrast"
   ]
  },
  {
   "cell_type": "markdown",
   "metadata": {},
   "source": [
    "Interactive to find values"
   ]
  },
  {
   "cell_type": "code",
   "execution_count": 27,
   "metadata": {},
   "outputs": [],
   "source": [
    "# Load the data (assumes `s` is already loaded and contains the image data)\n",
    "image_data = s.data\n",
    "\n",
    "# Initial percentiles for contrast stretching\n",
    "initial_p2, initial_p98 = 0.5, 99\n",
    "\n",
    "# Create the figure and initial plot\n",
    "fig, ax = plt.subplots(figsize=(8, 8))\n",
    "plt.subplots_adjust(bottom=0.25)  # Make room for sliders\n",
    "\n",
    "# Apply initial contrast stretching\n",
    "p2, p98 = np.percentile(image_data, (initial_p2, initial_p98))\n",
    "stretched_data = exposure.rescale_intensity(image_data, in_range=(p2, p98))\n",
    "im = ax.imshow(stretched_data, cmap='gray', origin='upper')\n",
    "ax.axis('off')\n",
    "\n",
    "# Create sliders for adjusting the percentiles\n",
    "ax_p2 = plt.axes([0.2, 0.1, 0.65, 0.03], facecolor='lightgray')\n",
    "ax_p98 = plt.axes([0.2, 0.05, 0.65, 0.03], facecolor='lightgray')\n",
    "\n",
    "slider_p2 = Slider(ax_p2, 'P2', 0, 10, valinit=initial_p2, valstep=0.1)\n",
    "slider_p98 = Slider(ax_p98, 'P98', 90, 100, valinit=initial_p98, valstep=0.1)\n",
    "\n",
    "# Update function to apply contrast stretching based on slider values\n",
    "def update(val):\n",
    "    p2 = np.percentile(image_data, slider_p2.val)\n",
    "    p98 = np.percentile(image_data, slider_p98.val)\n",
    "    stretched_data = exposure.rescale_intensity(image_data, in_range=(p2, p98))\n",
    "    im.set_data(stretched_data)\n",
    "    fig.canvas.draw_idle()\n",
    "\n",
    "# Connect the sliders to the update function\n",
    "slider_p2.on_changed(update)\n",
    "slider_p98.on_changed(update)\n",
    "\n",
    "# Show the interactive plot\n",
    "plt.show()\n"
   ]
  },
  {
   "cell_type": "markdown",
   "metadata": {},
   "source": [
    "Then use suitable values for p1 and p2"
   ]
  },
  {
   "cell_type": "code",
   "execution_count": 32,
   "metadata": {},
   "outputs": [],
   "source": [
    "# Apply contrast stretching\n",
    "p1, p2 = np.percentile(s.data, (0.5, 99.9))  # Clip the extreme p1% and p2%\n",
    "s_stretch = s.deepcopy()\n",
    "s_stretch.data = exposure.rescale_intensity(s.data, in_range=(p1, p2))\n",
    "s_stretch.plot()\n"
   ]
  },
  {
   "cell_type": "code",
   "execution_count": null,
   "metadata": {},
   "outputs": [
    {
     "data": {
      "text/plain": [
       "(0.0, 14.016298561356962, 0.0, 14.016298561356962)"
      ]
     },
     "execution_count": 10,
     "metadata": {},
     "output_type": "execute_result"
    }
   ],
   "source": [
    "s.axes_manager.signal_extent # når vi bruker imshow(extent=...) setter vi altså 0 til 14.06 nm for x-aksen, 0 til 14.06 for y-aksen."
   ]
  },
  {
   "cell_type": "markdown",
   "metadata": {},
   "source": [
    "## Make figure and save plot"
   ]
  },
  {
   "cell_type": "code",
   "execution_count": 35,
   "metadata": {},
   "outputs": [],
   "source": [
    "fig, ax = plt.subplots(figsize=(8, 8))\n",
    "ax.imshow(s_stretch.data, extent = s.axes_manager.signal_extent, cmap='gray')\n",
    "ax.axis('off')  # Remove axes for clarity\n",
    "\n",
    "fontprops = fm.FontProperties(size=25)\n",
    "scalebar = AnchoredSizeBar(\n",
    "    transform=ax.transData,\n",
    "    size=3,\n",
    "    label=\"3 nm\",\n",
    "    loc=4,\n",
    "    frameon=False,\n",
    "    color=\"white\",\n",
    "    size_vertical=0.25,\n",
    "    label_top=False,\n",
    "    fontproperties=fontprops)\n",
    "scalebar.txt_label._text.set_path_effects([patheffects.withStroke(linewidth=2, foreground='black', capstyle=\"round\")])\n",
    "ax.add_artist(scalebar)\n",
    "\n",
    "fig.savefig(\"HRTEM.png\", bbox_inches='tight', pad_inches=0, dpi=300)"
   ]
  },
  {
   "cell_type": "code",
   "execution_count": null,
   "metadata": {},
   "outputs": [],
   "source": []
  }
 ],
 "metadata": {
  "kernelspec": {
   "display_name": "Python 3",
   "language": "python",
   "name": "python3"
  },
  "language_info": {
   "codemirror_mode": {
    "name": "ipython",
    "version": 3
   },
   "file_extension": ".py",
   "mimetype": "text/x-python",
   "name": "python",
   "nbconvert_exporter": "python",
   "pygments_lexer": "ipython3",
   "version": "3.11.10"
  }
 },
 "nbformat": 4,
 "nbformat_minor": 2
}
